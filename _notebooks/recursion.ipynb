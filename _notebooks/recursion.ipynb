{
 "cells": [
  {
   "cell_type": "raw",
   "metadata": {},
   "source": [
    "---\n",
    "layout: post\n",
    "title: recursive homework\n",
    "description: By Dinesh\n",
    "menu: nav/CSA_Units/CSA_tri2/tri2_recursive.html\n",
    "courses: {'csa': {'week': 5}}\n",
    "toc: true\n",
    "comments: true\n",
    "permalink: /csa/recursive/\n",
    "---"
   ]
  },
  {
   "cell_type": "markdown",
   "metadata": {},
   "source": [
    "### Question 1"
   ]
  },
  {
   "cell_type": "code",
   "execution_count": 4,
   "metadata": {
    "vscode": {
     "languageId": "java"
    }
   },
   "outputs": [],
   "source": [
    "public class Staircase {\n",
    "\n",
    "    public int countWays(int n) {\n",
    "        // Base case: if n == 0, there's 1 way to stay at the ground (do nothing)\n",
    "        if (n == 0) {\n",
    "            return 1;\n",
    "        }\n",
    "        \n",
    "        // Base case: if n < 0, no valid way to climb the stairs\n",
    "        if (n < 0) {\n",
    "            return 0;\n",
    "        }\n",
    "        \n",
    "        // Recursive case: sum of ways to climb by taking 1 step from n-1 and 2 steps from n-2\n",
    "        return countWays(n - 1) + countWays(n - 2);\n",
    "    }\n",
    "\n",
    "    public static void main(String[] args) {\n",
    "        Staircase staircase = new Staircase();\n",
    "        System.out.println(staircase.countWays(4)); // Output: 5\n",
    "    }\n",
    "}"
   ]
  },
  {
   "cell_type": "markdown",
   "metadata": {},
   "source": [
    "#### Part B (Visualization)"
   ]
  },
  {
   "cell_type": "code",
   "execution_count": null,
   "metadata": {
    "vscode": {
     "languageId": "java"
    }
   },
   "outputs": [],
   "source": [
    "countWays(3)\n",
    "   → countWays(2) + countWays(1)\n",
    "      → countWays(1) + countWays(0)\n",
    "         → countWays(0) → returns 1\n",
    "         → countWays(-1) → returns 0\n",
    "      → countWays(0) → returns 1\n",
    "   → countWays(1) → returns 1\n",
    "countWays(3) = 2 + 1 = 3"
   ]
  },
  {
   "cell_type": "markdown",
   "metadata": {},
   "source": [
    "### Part C"
   ]
  },
  {
   "cell_type": "code",
   "execution_count": 2,
   "metadata": {
    "vscode": {
     "languageId": "java"
    }
   },
   "outputs": [],
   "source": [
    "public class Staircase {\n",
    "\n",
    "    public int countWaysVariableSteps(int n, int[] steps) {\n",
    "        // Base case: if n == 0, there's 1 way to stay at the ground (do nothing)\n",
    "        if (n == 0) {\n",
    "            return 1;\n",
    "        }\n",
    "        \n",
    "        // Base case: if n < 0, no valid way to climb the stairs\n",
    "        if (n < 0) {\n",
    "            return 0;\n",
    "        }\n",
    "\n",
    "        // Recursive case: sum the results of all allowed steps\n",
    "        int totalWays = 0;\n",
    "        for (int step : steps) {\n",
    "            totalWays += countWaysVariableSteps(n - step, steps);\n",
    "        }\n",
    "        \n",
    "        return totalWays;\n",
    "    }\n",
    "\n",
    "    public static void main(String[] args) {\n",
    "        Staircase staircase = new Staircase();\n",
    "        int[] steps = {1, 3, 5};\n",
    "        System.out.println(staircase.countWaysVariableSteps(5, steps)); // Output: 5\n",
    "    }\n",
    "}"
   ]
  },
  {
   "cell_type": "markdown",
   "metadata": {},
   "source": [
    "#### Part D (Optional)"
   ]
  },
  {
   "cell_type": "markdown",
   "metadata": {},
   "source": [
    "The time complexity of the original countWays method is O(2^n) because for each call to countWays(n), there are two recursive calls (countWays(n-1) and countWays(n-2)), creating a binary tree of recursive calls. This leads to exponential growth in the number of calls, and thus the time complexity is O(2^n).\n",
    "\n",
    "To optimize this using memoization, a cache (like a HashMap or an array) can be used to store the results of subproblems. If a result for a specific n is requested again, the cached result is returned instead of recalculating it. This avoids redundant calls and drastically reduces the time complexity."
   ]
  },
  {
   "cell_type": "code",
   "execution_count": 3,
   "metadata": {
    "vscode": {
     "languageId": "java"
    }
   },
   "outputs": [],
   "source": [
    "import java.util.HashMap;\n",
    "\n",
    "public class Staircase {\n",
    "\n",
    "    private HashMap<Integer, Integer> memo = new HashMap<>();\n",
    "\n",
    "    public int countWays(int n) {\n",
    "        if (memo.containsKey(n)) {\n",
    "            return memo.get(n);\n",
    "        }\n",
    "\n",
    "        if (n == 0) {\n",
    "            return 1;\n",
    "        }\n",
    "        if (n < 0) {\n",
    "            return 0;\n",
    "        }\n",
    "\n",
    "        int result = countWays(n - 1) + countWays(n - 2);\n",
    "\n",
    "        memo.put(n, result);\n",
    "\n",
    "        return result;\n",
    "    }\n",
    "\n",
    "    public static void main(String[] args) {\n",
    "        Staircase staircase = new Staircase();\n",
    "        System.out.println(staircase.countWays(4)); // Output: 5\n",
    "    }\n",
    "}"
   ]
  },
  {
   "cell_type": "markdown",
   "metadata": {},
   "source": [
    "## Multiple Choice"
   ]
  },
  {
   "cell_type": "markdown",
   "metadata": {},
   "source": [
    "1. D: The equation method is a recursive function with a base case that returns 12 if a <= 5. It recursively calls equation(a - 2) and equation(a - 1), multiplying their results."
   ]
  },
  {
   "cell_type": "markdown",
   "metadata": {},
   "source": [
    "2. Transformed:\n",
    "tHIs IS MY FAVOrITe: yAy FOR pROgRAMMIng!!!\n",
    "\n",
    "After applying the transformation rules, the result is C."
   ]
  },
  {
   "cell_type": "markdown",
   "metadata": {},
   "source": [
    "3. B. A condition that stops the recursion by returning a value.\n",
    "\n",
    "The base case is a condition in a recursive function that terminates the recursion by returning a value, preventing the function from calling itself indefinitely."
   ]
  }
 ],
 "metadata": {
  "kernelspec": {
   "display_name": "Java",
   "language": "java",
   "name": "java"
  },
  "language_info": {
   "codemirror_mode": "java",
   "file_extension": ".jshell",
   "mimetype": "text/x-java-source",
   "name": "Java",
   "pygments_lexer": "java",
   "version": "21.0.5+11-Ubuntu-1ubuntu124.04"
  }
 },
 "nbformat": 4,
 "nbformat_minor": 2
}

{
 "cells": [
  {
   "cell_type": "raw",
   "metadata": {
    "vscode": {
     "languageId": "raw"
    }
   },
   "source": [
    "---\n",
    "layout: post\n",
    "title: Quiz Questions for APCSA Unit 1\n",
    "description: Questions and Code Cells for the Quiz on Unit 1\n",
    "categories: [CSA-Quiz]\n",
    "permalink: /csa/units/quiz1\n",
    "menu: nav/CSA_Units/csa_unit1.html\n",
    "author: Soham Kamat & Aniket Chakradeo\n",
    "---"
   ]
  },
  {
   "cell_type": "markdown",
   "metadata": {},
   "source": [
    "## Unit 1: Primitive Types"
   ]
  },
  {
   "cell_type": "markdown",
   "metadata": {},
   "source": [
    "### Question 1\n",
    "\n",
    "Which of the following is a valid declaration of a variable of type int in Java?<br>\n",
    "a) int 123variable;<br>\n",
    "b) int variable123;<br>\n",
    "c) int variable#123;<br>\n",
    "d) int variable 123;\n",
    "\n",
    "Answer: b) int variable123;\n"
   ]
  },
  {
   "cell_type": "code",
   "execution_count": 3,
   "metadata": {
    "vscode": {
     "languageId": "java"
    }
   },
   "outputs": [
    {
     "name": "stdout",
     "output_type": "stream",
     "text": [
      "123\n"
     ]
    }
   ],
   "source": [
    "// Define a variable following Java naming conventions (camelCase)\n",
    "int variable123 = 123;\n",
    "System.out.println(variable123);"
   ]
  },
  {
   "cell_type": "markdown",
   "metadata": {},
   "source": [
    "### Question 2\n",
    "\n",
    "What is the value of the following expression in Java: 5 / 2?<br>\n",
    "a) 2.5<br>\n",
    "b) 3<br>\n",
    "c) 2<br>\n",
    "d) 2.0\n",
    "\n",
    "Answer: c) 2\n"
   ]
  },
  {
   "cell_type": "code",
   "execution_count": 2,
   "metadata": {
    "vscode": {
     "languageId": "java"
    }
   },
   "outputs": [],
   "source": [
    "// Q2.1 Hack: Show in code difference between integer and floating point division.\n",
    "public class DivisionExample {\n",
    "    public static void main(String[] args) {\n",
    "        // Integer division\n",
    "        int intA = 7;\n",
    "        int intB = 2;\n",
    "        int intResult = intA / intB; // Results in 3 (integer division)\n",
    "        System.out.println(\"Integer Division: \" + intA + \" / \" + intB + \" = \" + intResult);\n",
    "\n",
    "        // Floating-point division\n",
    "        double doubleA = 7.0;\n",
    "        double doubleB = 2.0;\n",
    "        double doubleResult = doubleA / doubleB; // Results in 3.5 (floating-point division)\n",
    "        System.out.println(\"Floating Point Division: \" + doubleA + \" / \" + doubleB + \" = \" + doubleResult);\n",
    "    }\n",
    "}\n",
    "// Q2.2 Hack: Show in code the differnt number types in Java and how they behave.\n",
    "public class NumberTypesExample {\n",
    "    public static void main(String[] args) {\n",
    "        // Integer Types\n",
    "        byte byteVar = 100; // 8-bit signed integer\n",
    "        short shortVar = 10000; // 16-bit signed integer\n",
    "        int intVar = 100000; // 32-bit signed integer\n",
    "        long longVar = 100000L; // 64-bit signed integer\n",
    "\n",
    "        System.out.println(\"Byte: \" + byteVar);\n",
    "        System.out.println(\"Short: \" + shortVar);\n",
    "        System.out.println(\"Int: \" + intVar);\n",
    "        System.out.println(\"Long: \" + longVar);\n",
    "\n",
    "        // Floating Point Types\n",
    "        float floatVar = 3.14f; // 32-bit floating-point number\n",
    "        double doubleVar = 3.14159; // 64-bit floating-point number\n",
    "\n",
    "        System.out.println(\"Float: \" + floatVar);\n",
    "        System.out.println(\"Double: \" + doubleVar);\n",
    "    }\n",
    "}"
   ]
  },
  {
   "cell_type": "markdown",
   "metadata": {},
   "source": [
    "#### Behave means definition and assignment.\n",
    "Integer Division: In the first example, integer division truncates the decimal, resulting in only the whole number part.\n",
    "Floating-point Division: The second example demonstrates that floating-point division retains decimal precision.\n",
    "Number Types: The second code snippet shows various number types (byte, short, int, long, float, double), their sizes, and how they behave when assigned values."
   ]
  },
  {
   "cell_type": "markdown",
   "metadata": {
    "vscode": {
     "languageId": "raw"
    }
   },
   "source": [
    "### Question 3\n",
    "\n",
    "Which primitive type is used to represent a single character in Java?<br>\n",
    "a) char<br>\n",
    "b) String<br>\n",
    "c) int<br>\n",
    "d) byte\n",
    "\n",
    "Answer: a) char"
   ]
  },
  {
   "cell_type": "code",
   "execution_count": 1,
   "metadata": {
    "vscode": {
     "languageId": "java"
    }
   },
   "outputs": [],
   "source": [
    "// Q3.1 Hack: Show in code all the the non-number Java primitive data types and how they behave.\n",
    "public class NonNumberPrimitivesExample {\n",
    "    public static void main(String[] args) {\n",
    "        // Boolean type\n",
    "        boolean booleanVarTrue = true; // Represents true\n",
    "        boolean booleanVarFalse = false; // Represents false\n",
    "        \n",
    "        // Char type\n",
    "        char charVar = 'A'; // Represents a single character\n",
    "        \n",
    "        // Output the values and their behaviors\n",
    "        System.out.println(\"Boolean True: \" + booleanVarTrue);\n",
    "        System.out.println(\"Boolean False: \" + booleanVarFalse);\n",
    "        System.out.println(\"Character: \" + charVar);\n",
    "    }\n",
    "}\n",
    "// Q3.2 Hack: Show in code the String data type and how it behaves.\n",
    "public class StringExample {\n",
    "    public static void main(String[] args) {\n",
    "        // String type\n",
    "        String stringVar = \"Hello, World!\"; // Represents a sequence of characters\n",
    "        \n",
    "        // String methods\n",
    "        int length = stringVar.length(); // Get length of the string\n",
    "        String upperCaseString = stringVar.toUpperCase(); // Convert to uppercase\n",
    "        String subString = stringVar.substring(7, 12); // Get substring from index 7 to 12\n",
    "\n",
    "        // Output the values and their behaviors\n",
    "        System.out.println(\"String: \" + stringVar);\n",
    "        System.out.println(\"Length of String: \" + length);\n",
    "        System.out.println(\"Uppercase String: \" + upperCaseString);\n",
    "        System.out.println(\"Substring: \" + subString);\n",
    "    }\n",
    "}"
   ]
  },
  {
   "cell_type": "markdown",
   "metadata": {},
   "source": [
    "### Question 4\n",
    "Answer the following questions based on the code cell:\n",
    "\n",
    "a. What kind of types are person1 and person2?\n",
    "Answer: Reference types (they are instances of the Person class).\n",
    "\n",
    "b. Do person1 and person3 point to the same value in memory?\n",
    "Answer: Yes, both person1 and person3 point to the same Person object in memory.\n",
    "\n",
    "c. Is the integer \"number\" stored in the heap or in the stack?\n",
    "Answer: The integer \"number\" is stored in the stack.\n",
    "\n",
    "d. Is the value that \"person1\" points to stored in the heap or in the stack?\n",
    "Answer: The value that \"person1\" points to (the Person object) is stored in the heap."
   ]
  },
  {
   "cell_type": "code",
   "execution_count": null,
   "metadata": {
    "vscode": {
     "languageId": "java"
    }
   },
   "outputs": [],
   "source": [
    "public class Person {\n",
    "    String name;\n",
    "    int age;\n",
    "    int height;\n",
    "    String job;\n",
    "\n",
    "    public Person(String name, int age, int height, String job) {\n",
    "        this.name = name;\n",
    "        this.age = age;\n",
    "        this.height = height;\n",
    "        this.job = job;\n",
    "    }\n",
    "}\n",
    "\n",
    "public static void main(String[] args) {\n",
    "    Person person1 = new Person(\"Carl\", 25, 165, \"Construction Worker\");\n",
    "    Person person2 = new Person(\"Adam\", 29, 160, \"Truck Driver\");\n",
    "    Person person3 = person1;\n",
    "    int number = 16;\n",
    "    System.out.println(number);\n",
    "}\n",
    "main(null); // This is required in Jupiter Notebook to run the main method."
   ]
  },
  {
   "cell_type": "markdown",
   "metadata": {},
   "source": [
    "### Question 5 \n",
    "\n",
    "(a) Define primitive types and reference types in Java. The application is for banking, where you need to represent customer information.\n",
    "\n",
    "(b) Add comments for primitive types and reference types. In terms of memory allocation, discuss concepts like instance, stack, and heap where it adds value.\n",
    "\n",
    "(c) To assist in requirements, here are some required elements:\n",
    "- Create multiple customers from the `public class Account`.\n",
    "- Consider key class variables that a Bank may require: `name`, `balance`, `accountNumber`.\n",
    "- Create a two argument constructor using `name` and `balance`.\n",
    "- Consider in constructor how you will create a unique account number using `static int lastAccountNumber`\n",
    "- Define a method `calculateInterest` that works with getting and setting `double balance` using `private static double interestRate`."
   ]
  },
  {
   "cell_type": "markdown",
   "metadata": {},
   "source": [
    "### (a) Define primitive types and reference types in Java. The application is for banking, where you need to represent customer information.\n",
    "\n",
    "Primitive Types: Primitive types are the basic data types in Java that hold simple values. Examples include int, double, boolean, and char. In the banking application, you might use:\n",
    "int accountNumber to represent the unique identifier for each customer.\n",
    "double balance to represent the customer's account balance.\n",
    "Reference Types: Reference types are objects that store references to the actual data. They are instances of classes and can hold more complex data structures. In the banking application, you could use:\n",
    "String name to represent the customer's name.\n",
    "A custom class like Account to encapsulate the customer information and behaviors related to the account."
   ]
  },
  {
   "cell_type": "markdown",
   "metadata": {},
   "source": [
    "### (b) Add comments for primitive types and reference types. In terms of memory allocation, discuss concepts like instance, stack, and heap where it adds value.\n",
    "\n",
    "Memory Allocation Concepts:\n",
    "Stack: Primitive types like int and double are typically stored in the stack. The stack is a region of memory that stores method call frames, including local variables and method parameters. When a method is called, its variables are created on the stack, and they are discarded when the method finishes.\n",
    "\n",
    "Heap: Reference types, like String or instances of classes (e.g., Account), are stored in the heap. The heap is used for dynamic memory allocation, where objects are created and can be accessed via references. When you create an Account object, the memory for that object is allocated on the heap, and the variable storing the reference (like Account myAccount) is stored on the stack.\n",
    "\n",
    "Instance: Each time you create an object (an instance of a class), memory is allocated in the heap for the instance, including its fields (both primitive and reference types). The reference to that instance is stored in the stack."
   ]
  },
  {
   "cell_type": "code",
   "execution_count": 4,
   "metadata": {
    "vscode": {
     "languageId": "java"
    }
   },
   "outputs": [],
   "source": [
    "public class Account {\n",
    "    // Primitive types\n",
    "    private int accountNumber; // Unique identifier for the account\n",
    "    private double balance; // Balance in the account\n",
    "\n",
    "    // Reference type\n",
    "    private String name; // Customer's name\n",
    "\n",
    "    // Static variable to create unique account numbers\n",
    "    private static int lastAccountNumber = 0; // Last assigned account number\n",
    "\n",
    "    // Static variable for interest rate\n",
    "    private static double interestRate = 0.05; // 5% interest rate\n",
    "\n",
    "    // Constructor to initialize name and balance\n",
    "    public Account(String name, double balance) {\n",
    "        this.name = name;\n",
    "        this.balance = balance;\n",
    "        lastAccountNumber++; // Increment account number\n",
    "        this.accountNumber = lastAccountNumber; // Assign unique account number\n",
    "    }\n",
    "\n",
    "    // Method to calculate interest and update balance\n",
    "    public void calculateInterest() {\n",
    "        balance += balance * interestRate; // Update balance with interest\n",
    "    }\n",
    "\n",
    "    // Getters for balance and account number\n",
    "    public double getBalance() {\n",
    "        return balance;\n",
    "    }\n",
    "\n",
    "    public int getAccountNumber() {\n",
    "        return accountNumber;\n",
    "    }\n",
    "}"
   ]
  },
  {
   "cell_type": "markdown",
   "metadata": {},
   "source": [
    "### (c) To assist in requirements, here are some required elements:\n",
    "\n",
    "Create multiple customers from the public class Account.\n",
    "Consider key class variables that a Bank may require: name, balance, accountNumber.\n",
    "Create a two-argument constructor using name and balance.\n",
    "Consider in the constructor how you will create a unique account number using static int lastAccountNumber.\n",
    "Define a method calculateInterest that works with getting and setting double balance using private static double interestRate."
   ]
  },
  {
   "cell_type": "code",
   "execution_count": 6,
   "metadata": {
    "vscode": {
     "languageId": "java"
    }
   },
   "outputs": [],
   "source": [
    "public class Account {\n",
    "    // Primitive types\n",
    "    private int accountNumber; // Unique identifier for the account\n",
    "    private double balance; // Balance in the account\n",
    "\n",
    "    // Reference type\n",
    "    private String name; // Customer's name\n",
    "\n",
    "    // Static variable to create unique account numbers\n",
    "    private static int lastAccountNumber = 0; // Last assigned account number\n",
    "\n",
    "    // Static variable for interest rate\n",
    "    private static double interestRate = 0.05; // 5% interest rate\n",
    "\n",
    "    // Constructor to initialize name and balance\n",
    "    public Account(String name, double balance) {\n",
    "        this.name = name;\n",
    "        this.balance = balance;\n",
    "        lastAccountNumber++; // Increment account number\n",
    "        this.accountNumber = lastAccountNumber; // Assign unique account number\n",
    "    }\n",
    "\n",
    "    // Method to calculate interest and update balance\n",
    "    public void calculateInterest() {\n",
    "        balance += balance * interestRate; // Update balance with interest\n",
    "    }\n",
    "\n",
    "    // Getters for balance and account number\n",
    "    public double getBalance() {\n",
    "        return balance;\n",
    "    }\n",
    "\n",
    "    public int getAccountNumber() {\n",
    "        return accountNumber;\n",
    "    }\n",
    "\n",
    "    public String getName() {\n",
    "        return name; // Getter for name\n",
    "    }\n",
    "}\n",
    "\n",
    "public class Main {\n",
    "    public static void main(String[] args) {\n",
    "        // Creating multiple customers\n",
    "        Account customer1 = new Account(\"Alice\", 1000.00);\n",
    "        Account customer2 = new Account(\"Bob\", 1500.00);\n",
    "\n",
    "        // Calculate interest for each customer\n",
    "        customer1.calculateInterest();\n",
    "        customer2.calculateInterest();\n",
    "\n",
    "        // Print account details\n",
    "        System.out.println(\"Account Number: \" + customer1.getAccountNumber() + \", Name: \" + customer1.getName() + \", Balance: \" + customer1.getBalance());\n",
    "        System.out.println(\"Account Number: \" + customer2.getAccountNumber() + \", Name: \" + customer2.getName() + \", Balance: \" + customer2.getBalance());\n",
    "    }\n",
    "}"
   ]
  }
 ],
 "metadata": {
  "kernelspec": {
   "display_name": "Java",
   "language": "java",
   "name": "java"
  },
  "language_info": {
   "codemirror_mode": "java",
   "file_extension": ".jshell",
   "mimetype": "text/x-java-source",
   "name": "Java",
   "pygments_lexer": "java",
   "version": "17.0.12+7-Ubuntu-1ubuntu224.04"
  }
 },
 "nbformat": 4,
 "nbformat_minor": 2
}

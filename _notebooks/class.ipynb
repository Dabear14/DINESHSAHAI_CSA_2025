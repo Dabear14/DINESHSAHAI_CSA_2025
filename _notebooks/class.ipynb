{
 "cells": [
  {
   "cell_type": "code",
   "execution_count": null,
   "metadata": {
    "vscode": {
     "languageId": "java"
    }
   },
   "outputs": [],
   "source": [
    "//First Attempt\n",
    "public class CombinedTable {\n",
    "    private SingleTable t1;\n",
    "    private SingleTable t2;\n",
    "    private int desirability;\n",
    "\n",
    "    public CombinedTable(SingleTable t1, SingleTable t2) {\n",
    "        this.t1 = t1;\n",
    "        this.t2 = t2;\n",
    "    }\n",
    "\n",
    "    public boolean canSeat(int numPeople) {\n",
    "        int totalSeats = t1.getNumSeats() + t2.getNumSeats(); \n",
    "        if (numPeople < totalSeats) {\n",
    "            return true;\n",
    "        } else {\n",
    "            return false;\n",
    "        }\n",
    "    }\n",
    "\n",
    "    public double getDesirability() {\n",
    "        if (t1.getHeight() != t2.getHeight()) { \n",
    "            desirability = (t1.getViewQuality() + t2.getViewQuality()) / 2; \n",
    "            return desirability; \n",
    "        } else {\n",
    "            desirability = ((t1.getViewQuality() + t2.getViewQuality()) / 2);\n",
    "            return desirability; \n",
    "        }\n",
    "    }\n",
    "}\n"
   ]
  },
  {
   "cell_type": "markdown",
   "metadata": {},
   "source": [
    "### Fixes Made from Version 1 to Version 2\n",
    "\n",
    "Here’s a breakdown of the fixes I made in Version 2 to clean up the errors from Version 1:\n",
    "\n",
    "1. **`canSeat` Method:**\n",
    "   - In Version 1, the calculation of `totalSeats` forgot to subtract 2 for the shared seats between the tables. This was a logic error because the overlapping seats should not be double-counted. I fixed it by adding `- 2` to the calculation.\n",
    "   - The conditional check used `numPeople < totalSeats`, which didn’t include the case where the number of people equals the total seats. I updated it to `numPeople <= totalSeats` to make it inclusive, as it should be.\n",
    "2. **`getDesirability` Method:**\n",
    "   - The `if` condition in Version 1 was backwards! It checked if the heights of the two tables were not equal (`!=`), but it should’ve been checking if they were equal (`==`). I flipped the condition to fix this.\n",
    "   - When the heights weren’t equal, Version 1 didn’t apply the penalty of subtracting 10 from the desirability score. I corrected that in the `else` block to match the intended behavior."
   ]
  },
  {
   "cell_type": "code",
   "execution_count": null,
   "metadata": {
    "vscode": {
     "languageId": "java"
    }
   },
   "outputs": [],
   "source": [
    "//Revised Answer\n",
    "public class CombinedTable {\n",
    "    private SingleTable t1;\n",
    "    private SingleTable t2;\n",
    "    private int desirability;\n",
    "\n",
    "    public CombinedTable(SingleTable t1, SingleTable t2) {\n",
    "        this.t1 = t1;\n",
    "        this.t2 = t2;\n",
    "    }\n",
    "\n",
    "    public boolean canSeat(int numPeople) {\n",
    "        // Fixed: Subtracted 2 from totalSeats to account for shared seats between the tables.\n",
    "        int totalSeats = t1.getNumSeats() + t2.getNumSeats() - 2;\n",
    "        // Fixed: Changed the condition to \"numPeople <= totalSeats\" to make it inclusive.\n",
    "        if (numPeople <= totalSeats) {\n",
    "            return true;\n",
    "        } else {\n",
    "            return false;\n",
    "        }\n",
    "    }\n",
    "\n",
    "    public double getDesirability() {\n",
    "        // Fixed: Changed condition to \"t1.getHeight() == t2.getHeight\" to check for equal heights.\n",
    "        if (t1.getHeight() == t2.getHeight()) {\n",
    "            // Fixed: Correctly calculated desirability when heights are equal.\n",
    "            desirability = (t1.getViewQuality() + t2.getViewQuality()) / 2;\n",
    "            return desirability; \n",
    "        } else {\n",
    "            // Fixed: Subtracted 10 from desirability when heights are unequal.\n",
    "            desirability = ((t1.getViewQuality() + t2.getViewQuality()) / 2) - 10;\n",
    "            return desirability; \n",
    "        }\n",
    "    }\n",
    "}"
   ]
  }
 ],
 "metadata": {
  "language_info": {
   "name": "python"
  }
 },
 "nbformat": 4,
 "nbformat_minor": 2
}

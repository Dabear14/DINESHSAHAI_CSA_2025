{
 "cells": [
  {
   "cell_type": "code",
   "execution_count": null,
   "metadata": {
    "vscode": {
     "languageId": "java"
    }
   },
   "outputs": [],
   "source": [
    "// Fills the grid with random numbers\n",
    "public void repopulate() {\n",
    "    // Go through every row in the grid\n",
    "    for (int row = 0; row < grid.length; row++) {\n",
    "        // Go through every column in the grid\n",
    "        for (int col = 0; col < grid[0].length; col++) {\n",
    "            // Generate a random number between 1 and MAX\n",
    "            int rval = (int)(Math.random() * MAX) + 1;\n",
    "            // Keep generating numbers until it's divisible by 10 but NOT by 100\n",
    "            while (rval % 10 != 0 || rval % 100 == 0) {\n",
    "                rval = (int)(Math.random() * MAX) + 1;\n",
    "            }\n",
    "            // Stick that number in the grid\n",
    "            grid[row][col] = rval;\n",
    "        }\n",
    "    }\n",
    "}\n",
    "\n",
    "// Counts how many columns in the grid have numbers that go strictly up\n",
    "public int countIncreasingCols() {\n",
    "    int count = 0; // This will track the number of increasing columns\n",
    "    // Loop through all the columns in the grid\n",
    "    for (int col = 0; col < grid[0].length; col++) {\n",
    "        boolean ordered = true; // Assume the column is increasing until proven wrong\n",
    "        // Check each row in this column (starting from the second one)\n",
    "        for (int row = 1; row < grid.length; row++) {\n",
    "            // If the current number is smaller than the one above it, this column fails\n",
    "            if (grid[row][col] < grid[row - 1][col]) {\n",
    "                ordered = false; // Nope, not increasing\n",
    "                break; // No point in checking further, move on to the next column\n",
    "            }\n",
    "        }\n",
    "        // If the column passed the test, add it to the count\n",
    "        if (ordered) {\n",
    "            count++;\n",
    "        }\n",
    "    }\n",
    "    // Return the total number of columns that are increasing\n",
    "    return count;\n",
    "}"
   ]
  }
 ],
 "metadata": {
  "language_info": {
   "name": "python"
  }
 },
 "nbformat": 4,
 "nbformat_minor": 2
}

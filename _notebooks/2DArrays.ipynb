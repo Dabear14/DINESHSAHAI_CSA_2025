{
 "cells": [
  {
   "cell_type": "code",
   "execution_count": null,
   "metadata": {
    "vscode": {
     "languageId": "java"
    }
   },
   "outputs": [],
   "source": [
    "//Original Attempt\n",
    "public class ArrayResizer {\n",
    "    public static boolean isNonZeroRow(int[][] array2D, int r) {\n",
    "        for (int j = 0; j < array2D[r].length; j++) {\n",
    "            if (array2D[r][j] == 0) {\n",
    "                return false;\n",
    "            }\n",
    "        }\n",
    "        return true;\n",
    "    }\n",
    "\n",
    "    public static int[][] resize(int[][] array2D) {\n",
    "        int rows = array2D.length;\n",
    "        int cols = array2D[1].length;\n",
    "\n",
    "        int currentRow = 0;\n",
    "        int nonZeroRows = numNonZeroRows(array2D); \n",
    "        int[][] nonZeroArray = new int[nonZeroRows][cols];\n",
    "\n",
    "        for (int i = 0; i <= rows; i++) {\n",
    "            if (isNonZeroRow(array2D, i)) {\n",
    "                for (int j = 0; j < cols; j++) {\n",
    "                    nonZeroArray[currentRow][j] = array2D[i][j];\n",
    "                }\n",
    "                currentRow++;\n",
    "            }\n",
    "        }\n",
    "        return nonZeroArray;\n",
    "    }\n",
    "}"
   ]
  },
  {
   "cell_type": "markdown",
   "metadata": {},
   "source": [
    "### Explanation of Mistakes and Corrections:\n",
    "\n",
    "#### Error in Determining `cols`:\n",
    "- **Mistake:** `int cols = array2D[1].length;`\n",
    "- **Correction:** Changed to `int cols = array2D[0].length;` because `array2D[1]` might not exist for single-row arrays.\n",
    "\n",
    "#### `numNonZeroRows` Method Call:\n",
    "- **Mistake:** Used `numNonZeroRows(array2D)` without defining the method.\n",
    "- **Correction:** Define the `numNonZeroRows` method to calculate the number of non-zero rows.\n",
    "\n",
    "#### Loop Condition Error:\n",
    "- **Mistake:** `for (int i = 0; i <= rows; i++)` goes out of bounds.\n",
    "- **Correction:** Changed to `for (int i = 0; i < rows; i++)`."
   ]
  },
  {
   "cell_type": "code",
   "execution_count": null,
   "metadata": {
    "vscode": {
     "languageId": "java"
    }
   },
   "outputs": [],
   "source": [
    "//Rewritten Code\n",
    "public class ArrayResizer {\n",
    "    public static boolean isNonZeroRow(int[][] array2D, int r) {\n",
    "        // Check if all columns in the specified row have non-zero values\n",
    "        for (int j = 0; j < array2D[r].length; j++) {\n",
    "            if (array2D[r][j] == 0) {\n",
    "                return false;\n",
    "            }\n",
    "        }\n",
    "        return true;\n",
    "    }\n",
    "    public static int[][] resize(int[][] array2D) {\n",
    "        int rows = array2D.length;\n",
    "        int cols = array2D[0].length;\n",
    "        // Track the number of rows in the new array\n",
    "        int currentRow = 0;\n",
    "        // Determine the number of non-zero rows\n",
    "        int nonZeroRows = numNonZeroRows(array2D);\n",
    "        // Create a new array to store non-zero rows\n",
    "        int[][] nonZeroArray = new int[nonZeroRows][cols];\n",
    "        // Iterate through each row in the original array\n",
    "        for (int i = 0; i < rows; i++) {\n",
    "            // If the row is non-zero, copy it to the new array\n",
    "            if (isNonZeroRow(array2D, i)) {\n",
    "                for (int j = 0; j < cols; j++) {\n",
    "                    nonZeroArray[currentRow][j] = array2D[i][j];\n",
    "                }\n",
    "                // Move to the next row in the new array\n",
    "                currentRow++;\n",
    "            }\n",
    "        }\n",
    "        return nonZeroArray;\n",
    "    }\n",
    "}"
   ]
  }
 ],
 "metadata": {
  "language_info": {
   "name": "python"
  }
 },
 "nbformat": 4,
 "nbformat_minor": 2
}
